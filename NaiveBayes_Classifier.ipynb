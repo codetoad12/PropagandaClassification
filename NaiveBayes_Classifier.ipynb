{
 "cells": [
  {
   "cell_type": "code",
   "execution_count": 1,
   "id": "fee3e6ff",
   "metadata": {},
   "outputs": [],
   "source": [
    "import pandas as pd\n",
    "import matplotlib.pyplot as plt\n",
    "import numpy as np\n",
    "import os\n",
    "from nltk.tokenize import word_tokenize\n",
    "from nltk.probability import FreqDist\n",
    "from nltk.corpus import stopwords\n",
    "from nltk.stem import wordnet\n",
    "from nltk.stem import WordNetLemmatizer\n",
    "from nltk.tokenize import RegexpTokenizer\n",
    "from sklearn.feature_extraction.text import TfidfVectorizer\n",
    "from sklearn.feature_extraction.text import CountVectorizer\n",
    "from sklearn import model_selection, naive_bayes\n",
    "from sklearn.model_selection import train_test_split\n",
    "from sklearn.model_selection import cross_val_score\n",
    "from sklearn.pipeline import Pipeline\n",
    "from sklearn.metrics import classification_report, f1_score, accuracy_score, confusion_matrix\n",
    "from sklearn.metrics import roc_curve, auc, roc_auc_score\n",
    "from sklearn.metrics import precision_recall_curve\n",
    "import re"
   ]
  },
  {
   "cell_type": "code",
   "execution_count": 3,
   "id": "b53dd46c",
   "metadata": {},
   "outputs": [],
   "source": [
    "def remove_unwanted(text):\n",
    "    text=str(text)\n",
    "    text = re.sub(r'https?:\\/\\/.*[\\r\\n]*', '', text, flags=re.MULTILINE)\n",
    "    text = re.sub(r'\\<a href', ' ', text)\n",
    "    text = re.sub(r'&amp;', '', text) \n",
    "    text = re.sub(r'[_\"\\-;%()|+&=*%.,!?:#$@\\[\\]/]', ' ', text)\n",
    "    text = re.sub(r'<br />', ' ', text)\n",
    "    text = re.sub(r'\\'', ' ', text)\n",
    "    return(text)"
   ]
  },
  {
   "cell_type": "code",
   "execution_count": 4,
   "id": "17ba8376",
   "metadata": {},
   "outputs": [],
   "source": [
    "def remove_stopwords(text):\n",
    "    text=str(text)\n",
    "    text = text.split()\n",
    "    stops = set(stopwords.words(\"english\"))\n",
    "    text = [w for w in text if not w in stops]\n",
    "    text = \" \".join(text)\n",
    "    return(text)"
   ]
  },
  {
   "cell_type": "code",
   "execution_count": 5,
   "id": "30b43af5",
   "metadata": {},
   "outputs": [],
   "source": [
    "def common_words(text):\n",
    "    text_tokens=word_tokenize(text)\n",
    "    fdist=FreqDist()\n",
    "    for word in text_tokens:\n",
    "        fdist[word.lower()]+=1\n",
    "    fdist_10=fdist.most_common(10)\n",
    "    return(fdist_10)"
   ]
  },
  {
   "cell_type": "code",
   "execution_count": 6,
   "id": "cf60a7fc",
   "metadata": {},
   "outputs": [],
   "source": [
    "def convert_to_single_string(text):\n",
    "    single_text=\"\"\n",
    "    for i in range(len(text)):\n",
    "        if(i==0):\n",
    "            single_text=single_text+text[i]\n",
    "        else:\n",
    "            single_text=single_text+\" \"+text[i]\n",
    "    return(single_text)"
   ]
  },
  {
   "cell_type": "code",
   "execution_count": 7,
   "id": "744d58ee",
   "metadata": {},
   "outputs": [],
   "source": [
    "def remove_punctuations(text):\n",
    "    punctuation_remover=RegexpTokenizer(r'\\w+')\n",
    "    punctuation_remover.tokenize(text)\n",
    "    return (text)"
   ]
  },
  {
   "cell_type": "code",
   "execution_count": 8,
   "id": "d73a80ac",
   "metadata": {},
   "outputs": [],
   "source": [
    "def lowercase(text):\n",
    "    return(text.lower())"
   ]
  },
  {
   "cell_type": "code",
   "execution_count": 9,
   "id": "fa47d487",
   "metadata": {},
   "outputs": [],
   "source": [
    "def lemma(text):\n",
    "    text_tokens=word_tokenize(text)\n",
    "    word_lem=WordNetLemmatizer()\n",
    "    #print(text_tokens)\n",
    "    lemmatized_text=[]\n",
    "    i=0\n",
    "    for word in text_tokens:\n",
    "        lemmatized_text.append(word_lem.lemmatize(word))\n",
    "        i+=1\n",
    "    return(lemmatized_text)"
   ]
  },
  {
   "cell_type": "code",
   "execution_count": 10,
   "id": "4b41551a",
   "metadata": {},
   "outputs": [],
   "source": [
    "data_df=pd.read_csv(r\"D:\\Work\\Class\\Seminar\\Propaganda_Dataset_tweets.csv\")"
   ]
  },
  {
   "cell_type": "code",
   "execution_count": 11,
   "id": "f8e046f9",
   "metadata": {},
   "outputs": [],
   "source": [
    "data_df.columns=[\"Source\",\"Indicator\",\"Tweet\"]"
   ]
  },
  {
   "cell_type": "code",
   "execution_count": 12,
   "id": "92ea1dd6",
   "metadata": {},
   "outputs": [],
   "source": [
    "data_df['Tweet']=data_df['Tweet'].apply(lowercase)\n",
    "data_df['Tweet']=data_df['Tweet'].apply(remove_unwanted)\n",
    "data_df['Tweet']=data_df['Tweet'].apply(remove_stopwords)\n",
    "data_df['Tweet']=data_df['Tweet'].apply(remove_punctuations)\n",
    "data_df['Tweet']=data_df['Tweet'].apply(lemma)\n",
    "data_df['Tweet']=data_df['Tweet'].apply(convert_to_single_string)"
   ]
  },
  {
   "cell_type": "code",
   "execution_count": 13,
   "id": "f4a251d4",
   "metadata": {},
   "outputs": [],
   "source": [
    "X=data_df['Tweet']\n",
    "y=data_df['Indicator'].values"
   ]
  },
  {
   "cell_type": "code",
   "execution_count": 14,
   "id": "2118ed02",
   "metadata": {},
   "outputs": [],
   "source": [
    "final_dataset=pd.DataFrame({\"Indicator\":y ,\"Tweet\":X})"
   ]
  },
  {
   "cell_type": "code",
   "execution_count": 15,
   "id": "d5f193f3",
   "metadata": {},
   "outputs": [],
   "source": [
    "X_train,X_test, y_train,y_test=train_test_split(final_dataset[\"Tweet\"].values,final_dataset[\"Indicator\"].values,test_size=0.2)"
   ]
  },
  {
   "cell_type": "code",
   "execution_count": 16,
   "id": "5a5699ee",
   "metadata": {},
   "outputs": [],
   "source": [
    "tfidfvectorizer = TfidfVectorizer(use_idf=True,sublinear_tf=True)\n",
    "tfidfvectors_train = tfidfvectorizer.fit_transform(X_train)\n",
    "tfidfvectors_test  = tfidfvectorizer.transform(X_test)"
   ]
  },
  {
   "cell_type": "code",
   "execution_count": 17,
   "id": "54af051c",
   "metadata": {},
   "outputs": [
    {
     "data": {
      "text/plain": [
       "MultinomialNB()"
      ]
     },
     "execution_count": 17,
     "metadata": {},
     "output_type": "execute_result"
    }
   ],
   "source": [
    "NaiveBayes=naive_bayes.MultinomialNB()\n",
    "NaiveBayes.fit(tfidfvectors_train,y_train)"
   ]
  },
  {
   "cell_type": "code",
   "execution_count": 18,
   "id": "c776e647",
   "metadata": {},
   "outputs": [],
   "source": [
    "scores=cross_val_score(NaiveBayes,tfidfvectors_train,y_train,scoring=\"accuracy\",cv=5)"
   ]
  },
  {
   "cell_type": "code",
   "execution_count": 19,
   "id": "69abdefa",
   "metadata": {},
   "outputs": [
    {
     "name": "stdout",
     "output_type": "stream",
     "text": [
      "[0.82775453 0.82845188 0.82043236 0.82182706 0.83542538]\n"
     ]
    }
   ],
   "source": [
    "print(scores)"
   ]
  },
  {
   "cell_type": "code",
   "execution_count": 21,
   "id": "e7ce63a6",
   "metadata": {},
   "outputs": [],
   "source": [
    "pred=NaiveBayes.predict(tfidfvectors_test)"
   ]
  },
  {
   "cell_type": "code",
   "execution_count": 22,
   "id": "624ca1c5",
   "metadata": {},
   "outputs": [],
   "source": [
    "prob=NaiveBayes.predict_proba(tfidfvectors_test)[:,1]#[:,1]converts it to a 1 d array"
   ]
  },
  {
   "cell_type": "code",
   "execution_count": 23,
   "id": "1028b4d2",
   "metadata": {},
   "outputs": [
    {
     "data": {
      "text/plain": [
       "1"
      ]
     },
     "execution_count": 23,
     "metadata": {},
     "output_type": "execute_result"
    }
   ],
   "source": [
    "pred[200]"
   ]
  },
  {
   "cell_type": "code",
   "execution_count": 24,
   "id": "79dadd86",
   "metadata": {},
   "outputs": [
    {
     "data": {
      "text/plain": [
       "1"
      ]
     },
     "execution_count": 24,
     "metadata": {},
     "output_type": "execute_result"
    }
   ],
   "source": [
    "y_test[200]"
   ]
  },
  {
   "cell_type": "code",
   "execution_count": 25,
   "id": "4dbda282",
   "metadata": {},
   "outputs": [
    {
     "name": "stdout",
     "output_type": "stream",
     "text": [
      "              precision    recall  f1-score   support\n",
      "\n",
      "           0       0.83      0.86      0.84      1735\n",
      "           1       0.86      0.83      0.85      1850\n",
      "\n",
      "    accuracy                           0.84      3585\n",
      "   macro avg       0.84      0.84      0.84      3585\n",
      "weighted avg       0.84      0.84      0.84      3585\n",
      "\n",
      "Confusion Matrix: [[1484  251]\n",
      " [ 310 1540]]\n",
      "AUC: 0.9211447932081939\n"
     ]
    }
   ],
   "source": [
    "print(classification_report(y_test,pred))\n",
    "print('Confusion Matrix:',confusion_matrix(y_test, pred))\n",
    "fpr, tpr, thresholds = roc_curve(y_test, prob)\n",
    "roc_auc = auc(fpr, tpr)\n",
    "print('AUC:', roc_auc)"
   ]
  },
  {
   "cell_type": "code",
   "execution_count": 26,
   "id": "561cc5e0",
   "metadata": {},
   "outputs": [
    {
     "name": "stdout",
     "output_type": "stream",
     "text": [
      "[1 0 0 ... 0 1 0]\n"
     ]
    }
   ],
   "source": [
    "print(y_test)"
   ]
  },
  {
   "cell_type": "code",
   "execution_count": 27,
   "id": "7dd907b2",
   "metadata": {},
   "outputs": [
    {
     "name": "stdout",
     "output_type": "stream",
     "text": [
      "[0.51645869 0.15332787 0.08632939 ... 0.20960107 0.75602111 0.09344676]\n"
     ]
    }
   ],
   "source": [
    "print(prob)"
   ]
  },
  {
   "cell_type": "code",
   "execution_count": 85,
   "id": "7f6a4fc4",
   "metadata": {},
   "outputs": [
    {
     "data": {
      "image/png": "[encoded data removed]",
      "text/plain": [
       "<Figure size 432x288 with 1 Axes>"
      ]
     },
     "metadata": {
      "needs_background": "light"
     },
     "output_type": "display_data"
    }
   ],
   "source": [
    "def plot_roc_curve(fpr,tpr, label=None):\n",
    "    plt.plot(fpr, tpr, linewidth=2,label=label)\n",
    "    plt.plot([0,1],[0,1],'k--')\n",
    "plot_roc_curve(fpr,tpr)\n",
    "plt.savefig(\"ROC_Curve_NaiveBayes_Prop\")\n",
    "plt.show()\n"
   ]
  },
  {
   "cell_type": "code",
   "execution_count": 31,
   "id": "8204b18b",
   "metadata": {},
   "outputs": [],
   "source": [
    "precisions, recalls, thresholds=precision_recall_curve(y_test,pred)"
   ]
  },
  {
   "cell_type": "code",
   "execution_count": 32,
   "id": "78a1fa02",
   "metadata": {},
   "outputs": [],
   "source": [
    "def plot_precision_recall_vs_threshold(precisions,recalls,thresholds):\n",
    "    plt.plot(thresholds, precisions[:-1],\"b--\",label=\"Precision\")\n",
    "    plt.plot(thresholds, recalls[:-1],\"g--\",label=\"Recall\")"
   ]
  },
  {
   "cell_type": "code",
   "execution_count": 84,
   "id": "87d511ca",
   "metadata": {},
   "outputs": [
    {
     "data": {
      "image/png": "[encoded data removed]",
      "text/plain": [
       "<Figure size 432x288 with 1 Axes>"
      ]
     },
     "metadata": {
      "needs_background": "light"
     },
     "output_type": "display_data"
    }
   ],
   "source": [
    "plot_precision_recall_vs_threshold(precisions,recalls,thresholds)\n",
    "plt.savefig(\"Precision_Recall_NaiveBayes.png\")\n",
    "plt.show()\n"
   ]
  },
  {
   "cell_type": "code",
   "execution_count": 42,
   "id": "2bc496d6",
   "metadata": {},
   "outputs": [],
   "source": [
    "Tweet=\"its clear that Bangladesh Government is enabling the genocide of Hindus in Bangladesh. They have now ensured #iskcon accounts are suspended. Because @iskcon had gone to UNSadly Indian government, #Modi is silent expect for a long tweet about Eid\""
   ]
  },
  {
   "cell_type": "code",
   "execution_count": 46,
   "id": "9e4e8f77",
   "metadata": {},
   "outputs": [],
   "source": [
    "Tweet=lowercase(Tweet)\n",
    "Tweet=remove_unwanted(Tweet)\n",
    "Tweet=remove_stopwords(Tweet)\n",
    "Tweet=remove_punctuations(Tweet)\n",
    "Tweet=lemma(Tweet)\n",
    "Tweet=convert_to_single_string(Tweet)"
   ]
  },
  {
   "cell_type": "code",
   "execution_count": 62,
   "id": "f0281a65",
   "metadata": {},
   "outputs": [],
   "source": [
    "list_tweet=list()"
   ]
  },
  {
   "cell_type": "code",
   "execution_count": 63,
   "id": "82eeb16d",
   "metadata": {},
   "outputs": [],
   "source": [
    "list_tweet.append(Tweet)"
   ]
  },
  {
   "cell_type": "code",
   "execution_count": 64,
   "id": "3be5b89f",
   "metadata": {},
   "outputs": [],
   "source": [
    "tfidfvectorizer = TfidfVectorizer()\n",
    "tfidfvectors_train = tfidfvectorizer.fit_transform(X_train)\n",
    "tfidfvectors_test  = tfidfvectorizer.transform(list_tweet)"
   ]
  },
  {
   "cell_type": "code",
   "execution_count": 65,
   "id": "725a244a",
   "metadata": {},
   "outputs": [
    {
     "name": "stdout",
     "output_type": "stream",
     "text": [
      "['clear bangladesh government enabling genocide hindu bangladesh ensured iskcon account suspended iskcon gone unsadly indian government modi silent expect long tweet eid']\n"
     ]
    }
   ],
   "source": [
    "print(list_tweet)"
   ]
  },
  {
   "cell_type": "code",
   "execution_count": 66,
   "id": "9d52e0e6",
   "metadata": {},
   "outputs": [],
   "source": [
    "pred=NaiveBayes.predict(tfidfvectors_test)"
   ]
  },
  {
   "cell_type": "code",
   "execution_count": 67,
   "id": "96bf0dc0",
   "metadata": {},
   "outputs": [
    {
     "name": "stdout",
     "output_type": "stream",
     "text": [
      "[1]\n"
     ]
    }
   ],
   "source": [
    "print(pred)"
   ]
  },
  {
   "cell_type": "code",
   "execution_count": 68,
   "id": "f41a732c",
   "metadata": {},
   "outputs": [],
   "source": [
    "with open(\"#INC_file.txt\",\"r\") as file:\n",
    "    data=file.read().split(',')"
   ]
  },
  {
   "cell_type": "code",
   "execution_count": 69,
   "id": "537b732a",
   "metadata": {},
   "outputs": [],
   "source": [
    "data_list=[]\n",
    "for i in range(1,len(data)):\n",
    "    data_list.append(data[i])"
   ]
  },
  {
   "cell_type": "code",
   "execution_count": 70,
   "id": "a18e9f1c",
   "metadata": {},
   "outputs": [],
   "source": [
    "tfidfvectors_test  = tfidfvectorizer.transform(data_list)"
   ]
  },
  {
   "cell_type": "code",
   "execution_count": 71,
   "id": "261a3443",
   "metadata": {},
   "outputs": [],
   "source": [
    "pred=NaiveBayes.predict(tfidfvectors_test)"
   ]
  },
  {
   "cell_type": "code",
   "execution_count": 72,
   "id": "efb64278",
   "metadata": {},
   "outputs": [
    {
     "name": "stdout",
     "output_type": "stream",
     "text": [
      "[0 1 0 0 0 1 0 1 1 1 1]\n"
     ]
    }
   ],
   "source": [
    "print(pred)"
   ]
  },
  {
   "cell_type": "code",
   "execution_count": 83,
   "id": "fa2b2c67",
   "metadata": {},
   "outputs": [
    {
     "name": "stdout",
     "output_type": "stream",
     "text": [
      " 'Donkey will forever be a donkey #caraccident #amitmalviya #indiannationalcongress\\n#inc #bjp'\n"
     ]
    }
   ],
   "source": []
  },
  {
   "cell_type": "code",
   "execution_count": null,
   "id": "a357260f",
   "metadata": {},
   "outputs": [],
   "source": []
  }
 ],
 "metadata": {
  "kernelspec": {
   "display_name": "Python 3",
   "language": "python",
   "name": "python3"
  },
  "language_info": {
   "codemirror_mode": {
    "name": "ipython",
    "version": 3
   },
   "file_extension": ".py",
   "mimetype": "text/x-python",
   "name": "python",
   "nbconvert_exporter": "python",
   "pygments_lexer": "ipython3",
   "version": "3.8.8"
  }
 },
 "nbformat": 4,
 "nbformat_minor": 5
}
