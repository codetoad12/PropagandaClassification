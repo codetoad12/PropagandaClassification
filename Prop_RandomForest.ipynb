{
 "cells": [
  {
   "cell_type": "code",
   "execution_count": 1,
   "id": "ace18205",
   "metadata": {},
   "outputs": [],
   "source": [
    "import pandas as pd \n",
    "import matplotlib.pyplot as plt\n",
    "import Preprocessing \n",
    "from sklearn.model_selection import train_test_split as tts\n",
    "from sklearn.feature_extraction.text import TfidfVectorizer as tfidf\n",
    "from sklearn.ensemble import RandomForestClassifier\n",
    "from sklearn.model_selection import cross_val_score\n",
    "from sklearn.pipeline import Pipeline\n",
    "from sklearn.metrics import classification_report, f1_score, accuracy_score, confusion_matrix\n",
    "from sklearn.metrics import roc_curve, auc, roc_auc_score\n",
    "from sklearn.metrics import precision_recall_curve"
   ]
  },
  {
   "cell_type": "code",
   "execution_count": 2,
   "id": "08921499",
   "metadata": {},
   "outputs": [],
   "source": [
    "df=pd.read_csv(r\"D:\\Work\\Class\\Seminar\\Propaganda_Dataset_tweets.csv\")"
   ]
  },
  {
   "cell_type": "code",
   "execution_count": 3,
   "id": "52bc08ec",
   "metadata": {},
   "outputs": [],
   "source": [
    "df.columns=[\"Source\",\"Indicator\",\"Tweet\"]"
   ]
  },
  {
   "cell_type": "code",
   "execution_count": 4,
   "id": "d264a624",
   "metadata": {},
   "outputs": [],
   "source": [
    "Tweet=df['Tweet'].values"
   ]
  },
  {
   "cell_type": "code",
   "execution_count": 5,
   "id": "c656afc2",
   "metadata": {},
   "outputs": [],
   "source": [
    "Ind=df['Indicator'].values"
   ]
  },
  {
   "cell_type": "code",
   "execution_count": 6,
   "id": "38c7439c",
   "metadata": {},
   "outputs": [],
   "source": [
    "for i in range(len(Tweet)):\n",
    "    Tweet[i]=Preprocessing.remove_unwanted(Tweet[i])\n",
    "    Tweet[i]=Preprocessing.remove_stopwords( Tweet[i])    \n",
    "    #Tweet[i]=Preprocessing.common_words(Tweet[i])\n",
    "    Tweet[i]=Preprocessing.remove_punctuations(Tweet[i])\n",
    "    Tweet[i]=Preprocessing.lemma(Tweet[i])\n",
    "    Tweet[i]=Preprocessing.convert_to_single_string(Tweet[i])"
   ]
  },
  {
   "cell_type": "code",
   "execution_count": 7,
   "id": "3def1927",
   "metadata": {},
   "outputs": [],
   "source": [
    "X_train,X_test,y_train,y_test=tts(Tweet,Ind,test_size=0.2)"
   ]
  },
  {
   "cell_type": "code",
   "execution_count": 8,
   "id": "3ee0b83b",
   "metadata": {},
   "outputs": [],
   "source": [
    "tfidf = tfidf(use_idf=True,sublinear_tf=True)\n",
    "tfidf_train = tfidf.fit_transform(X_train)\n",
    "tfidf_test  = tfidf.transform(X_test)"
   ]
  },
  {
   "cell_type": "code",
   "execution_count": 9,
   "id": "56cc63d9",
   "metadata": {},
   "outputs": [],
   "source": [
    "RFC=RandomForestClassifier(n_estimators=1000,max_depth=10,random_state=1)"
   ]
  },
  {
   "cell_type": "code",
   "execution_count": 10,
   "id": "9dff18ad",
   "metadata": {},
   "outputs": [
    {
     "data": {
      "text/plain": [
       "RandomForestClassifier(max_depth=10, n_estimators=1000, random_state=1)"
      ]
     },
     "execution_count": 10,
     "metadata": {},
     "output_type": "execute_result"
    }
   ],
   "source": [
    "RFC.fit(tfidf_train,y_train)"
   ]
  },
  {
   "cell_type": "code",
   "execution_count": 11,
   "id": "430a45cb",
   "metadata": {},
   "outputs": [],
   "source": [
    "scores=cross_val_score(RFC,tfidf_train,y_train,scoring=\"accuracy\",cv=5)"
   ]
  },
  {
   "cell_type": "code",
   "execution_count": 12,
   "id": "60e75107",
   "metadata": {},
   "outputs": [
    {
     "name": "stdout",
     "output_type": "stream",
     "text": [
      "[0.77859135 0.76185495 0.76220363 0.76290098 0.75383543]\n"
     ]
    }
   ],
   "source": [
    "print(scores)"
   ]
  },
  {
   "cell_type": "code",
   "execution_count": 13,
   "id": "28b1724b",
   "metadata": {},
   "outputs": [],
   "source": [
    "pred=RFC.predict(tfidf_test)"
   ]
  },
  {
   "cell_type": "code",
   "execution_count": 14,
   "id": "e730fdbb",
   "metadata": {},
   "outputs": [],
   "source": [
    "proba=RFC.predict_proba(tfidf_test)[:,1]"
   ]
  },
  {
   "cell_type": "code",
   "execution_count": 15,
   "id": "5802fe50",
   "metadata": {},
   "outputs": [
    {
     "name": "stdout",
     "output_type": "stream",
     "text": [
      "              precision    recall  f1-score   support\n",
      "\n",
      "           0       0.71      0.91      0.80      1808\n",
      "           1       0.87      0.62      0.73      1777\n",
      "\n",
      "    accuracy                           0.77      3585\n",
      "   macro avg       0.79      0.77      0.76      3585\n",
      "weighted avg       0.79      0.77      0.76      3585\n",
      "\n",
      "Confusion Matrix: [[1644  164]\n",
      " [ 671 1106]]\n",
      "AUC: 0.864033607900359\n"
     ]
    }
   ],
   "source": [
    "print(classification_report(y_test,pred))\n",
    "print('Confusion Matrix:',confusion_matrix(y_test, pred))\n",
    "fpr, tpr, thresholds = roc_curve(y_test, proba)\n",
    "roc_auc = auc(fpr, tpr)\n",
    "print('AUC:', roc_auc)"
   ]
  },
  {
   "cell_type": "code",
   "execution_count": 16,
   "id": "a3a52d16",
   "metadata": {},
   "outputs": [
    {
     "data": {
      "image/png": "[encoded data removed]",
      "text/plain": [
       "<Figure size 432x288 with 1 Axes>"
      ]
     },
     "metadata": {
      "needs_background": "light"
     },
     "output_type": "display_data"
    }
   ],
   "source": [
    "def plot_roc_curve(fpr,tpr, label=None):\n",
    "    plt.plot(fpr, tpr, linewidth=2,label=label)\n",
    "    plt.plot([0,1],[0,1],'k--')\n",
    "plot_roc_curve(fpr,tpr)\n",
    "plt.savefig(\"ROC_Curve_RFC_Prop\")\n",
    "plt.show()"
   ]
  },
  {
   "cell_type": "code",
   "execution_count": null,
   "id": "f8a97c6d",
   "metadata": {},
   "outputs": [],
   "source": []
  }
 ],
 "metadata": {
  "kernelspec": {
   "display_name": "Python 3",
   "language": "python",
   "name": "python3"
  },
  "language_info": {
   "codemirror_mode": {
    "name": "ipython",
    "version": 3
   },
   "file_extension": ".py",
   "mimetype": "text/x-python",
   "name": "python",
   "nbconvert_exporter": "python",
   "pygments_lexer": "ipython3",
   "version": "3.8.8"
  }
 },
 "nbformat": 4,
 "nbformat_minor": 5
}
