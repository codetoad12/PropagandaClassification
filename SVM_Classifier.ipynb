{
 "cells": [
  {
   "cell_type": "code",
   "execution_count": 1,
   "id": "fee3e6ff",
   "metadata": {},
   "outputs": [],
   "source": [
    "import pandas as pd\n",
    "import matplotlib.pyplot as plt\n",
    "import numpy as np\n",
    "import os\n",
    "from nltk.tokenize import word_tokenize\n",
    "from nltk.probability import FreqDist\n",
    "from nltk.corpus import stopwords\n",
    "from nltk.stem import wordnet\n",
    "from nltk.stem import WordNetLemmatizer\n",
    "from nltk.tokenize import RegexpTokenizer\n",
    "from sklearn.feature_extraction.text import TfidfVectorizer\n",
    "from sklearn.feature_extraction.text import CountVectorizer\n",
    "from sklearn import model_selection, svm\n",
    "from sklearn.model_selection import train_test_split\n",
    "from sklearn.model_selection import cross_val_score\n",
    "from sklearn.pipeline import Pipeline\n",
    "from sklearn.metrics import classification_report, f1_score, accuracy_score, confusion_matrix\n",
    "from sklearn.metrics import roc_curve, auc, roc_auc_score\n",
    "from sklearn.metrics import precision_recall_curve\n",
    "import re"
   ]
  },
  {
   "cell_type": "code",
   "execution_count": 2,
   "id": "b53dd46c",
   "metadata": {},
   "outputs": [],
   "source": [
    "def remove_unwanted(text):\n",
    "    text=str(text)\n",
    "    text = re.sub(r'https?:\\/\\/.*[\\r\\n]*', '', text, flags=re.MULTILINE)\n",
    "    text = re.sub(r'\\<a href', ' ', text)\n",
    "    text = re.sub(r'&amp;', '', text) \n",
    "    text = re.sub(r'[_\"\\-;%()|+&=*%.,!?:#$@\\[\\]/]', ' ', text)\n",
    "    text = re.sub(r'<br />', ' ', text)\n",
    "    text = re.sub(r'\\'', ' ', text)\n",
    "    return(text)"
   ]
  },
  {
   "cell_type": "code",
   "execution_count": 3,
   "id": "17ba8376",
   "metadata": {},
   "outputs": [],
   "source": [
    "def remove_stopwords(text):\n",
    "    text=str(text)\n",
    "    text = text.split()\n",
    "    stops = set(stopwords.words(\"english\"))\n",
    "    text = [w for w in text if not w in stops]\n",
    "    text = \" \".join(text)\n",
    "    return(text)"
   ]
  },
  {
   "cell_type": "code",
   "execution_count": 4,
   "id": "30b43af5",
   "metadata": {},
   "outputs": [],
   "source": [
    "def common_words(text):\n",
    "    text_tokens=word_tokenize(text)\n",
    "    fdist=FreqDist()\n",
    "    for word in text_tokens:\n",
    "        fdist[word.lower()]+=1\n",
    "    fdist_10=fdist.most_common(10)\n",
    "    return(fdist_10)"
   ]
  },
  {
   "cell_type": "code",
   "execution_count": 5,
   "id": "cf60a7fc",
   "metadata": {},
   "outputs": [],
   "source": [
    "def convert_to_single_string(text):\n",
    "    single_text=\"\"\n",
    "    for i in range(len(text)):\n",
    "        if(i==0):\n",
    "            single_text=single_text+text[i]\n",
    "        else:\n",
    "            single_text=single_text+\" \"+text[i]\n",
    "    return(single_text)"
   ]
  },
  {
   "cell_type": "code",
   "execution_count": 6,
   "id": "744d58ee",
   "metadata": {},
   "outputs": [],
   "source": [
    "def remove_punctuations(text):\n",
    "    punctuation_remover=RegexpTokenizer(r'\\w+')\n",
    "    punctuation_remover.tokenize(text)\n",
    "    return (text)"
   ]
  },
  {
   "cell_type": "code",
   "execution_count": 7,
   "id": "d73a80ac",
   "metadata": {},
   "outputs": [],
   "source": [
    "def lowercase(text):\n",
    "    return(text.lower())"
   ]
  },
  {
   "cell_type": "code",
   "execution_count": 8,
   "id": "fa47d487",
   "metadata": {},
   "outputs": [],
   "source": [
    "def lemma(text):\n",
    "    text_tokens=word_tokenize(text)\n",
    "    word_lem=WordNetLemmatizer()\n",
    "    #print(text_tokens)\n",
    "    lemmatized_text=[]\n",
    "    i=0\n",
    "    for word in text_tokens:\n",
    "        lemmatized_text.append(word_lem.lemmatize(word))\n",
    "        i+=1\n",
    "    return(lemmatized_text)"
   ]
  },
  {
   "cell_type": "code",
   "execution_count": 9,
   "id": "4b41551a",
   "metadata": {},
   "outputs": [],
   "source": [
    "data_df=pd.read_csv(r\"D:\\Work\\Class\\Seminar\\Propaganda_Dataset_tweets.csv\")"
   ]
  },
  {
   "cell_type": "code",
   "execution_count": 10,
   "id": "f8e046f9",
   "metadata": {},
   "outputs": [],
   "source": [
    "data_df.columns=[\"Source\",\"Indicator\",\"Tweet\"]"
   ]
  },
  {
   "cell_type": "code",
   "execution_count": 11,
   "id": "92ea1dd6",
   "metadata": {},
   "outputs": [],
   "source": [
    "data_df['Tweet']=data_df['Tweet'].apply(lowercase)\n",
    "data_df['Tweet']=data_df['Tweet'].apply(remove_unwanted)\n",
    "data_df['Tweet']=data_df['Tweet'].apply(remove_stopwords)\n",
    "data_df['Tweet']=data_df['Tweet'].apply(remove_punctuations)\n",
    "data_df['Tweet']=data_df['Tweet'].apply(lemma)\n",
    "data_df['Tweet']=data_df['Tweet'].apply(convert_to_single_string)"
   ]
  },
  {
   "cell_type": "code",
   "execution_count": 12,
   "id": "f4a251d4",
   "metadata": {},
   "outputs": [],
   "source": [
    "X=data_df['Tweet']\n",
    "y=data_df['Indicator'].values"
   ]
  },
  {
   "cell_type": "code",
   "execution_count": 13,
   "id": "2118ed02",
   "metadata": {},
   "outputs": [],
   "source": [
    "final_dataset=pd.DataFrame({\"Indicator\":y ,\"Tweet\":X})"
   ]
  },
  {
   "cell_type": "code",
   "execution_count": 14,
   "id": "d5f193f3",
   "metadata": {},
   "outputs": [],
   "source": [
    "X_train,X_test, y_train,y_test=train_test_split(final_dataset[\"Tweet\"].values,final_dataset[\"Indicator\"].values,test_size=0.2)"
   ]
  },
  {
   "cell_type": "code",
   "execution_count": 15,
   "id": "5a5699ee",
   "metadata": {},
   "outputs": [],
   "source": [
    "tfidfvectorizer = TfidfVectorizer(use_idf=True,sublinear_tf=True)\n",
    "tfidfvectors_train = tfidfvectorizer.fit_transform(X_train)\n",
    "tfidfvectors_test  = tfidfvectorizer.transform(X_test)"
   ]
  },
  {
   "cell_type": "code",
   "execution_count": 16,
   "id": "54af051c",
   "metadata": {},
   "outputs": [
    {
     "data": {
      "text/plain": [
       "SVC(gamma='auto', kernel='linear', probability=True)"
      ]
     },
     "execution_count": 16,
     "metadata": {},
     "output_type": "execute_result"
    }
   ],
   "source": [
    "SVM=svm.SVC(C=1.0, kernel='linear',degree=3,gamma='auto',probability=True)\n",
    "SVM.fit(tfidfvectors_train,y_train)"
   ]
  },
  {
   "cell_type": "code",
   "execution_count": 17,
   "id": "c776e647",
   "metadata": {},
   "outputs": [],
   "source": [
    "scores=cross_val_score(SVM,tfidfvectors_train,y_train,scoring=\"accuracy\",cv=5)"
   ]
  },
  {
   "cell_type": "code",
   "execution_count": 18,
   "id": "69abdefa",
   "metadata": {},
   "outputs": [
    {
     "name": "stdout",
     "output_type": "stream",
     "text": [
      "[0.81624826 0.82287308 0.80753138 0.82426778 0.81659693]\n"
     ]
    }
   ],
   "source": [
    "print(scores)"
   ]
  },
  {
   "cell_type": "code",
   "execution_count": 19,
   "id": "e7ce63a6",
   "metadata": {},
   "outputs": [],
   "source": [
    "pred=SVM.predict(tfidfvectors_test)"
   ]
  },
  {
   "cell_type": "code",
   "execution_count": 20,
   "id": "624ca1c5",
   "metadata": {},
   "outputs": [],
   "source": [
    "prob=SVM.predict_proba(tfidfvectors_test)[:,1]#[:,1]converts it to a 1 d array"
   ]
  },
  {
   "cell_type": "code",
   "execution_count": 21,
   "id": "1028b4d2",
   "metadata": {},
   "outputs": [
    {
     "data": {
      "text/plain": [
       "1"
      ]
     },
     "execution_count": 21,
     "metadata": {},
     "output_type": "execute_result"
    }
   ],
   "source": [
    "pred[200]"
   ]
  },
  {
   "cell_type": "code",
   "execution_count": 22,
   "id": "79dadd86",
   "metadata": {},
   "outputs": [
    {
     "data": {
      "text/plain": [
       "1"
      ]
     },
     "execution_count": 22,
     "metadata": {},
     "output_type": "execute_result"
    }
   ],
   "source": [
    "y_test[200]"
   ]
  },
  {
   "cell_type": "code",
   "execution_count": 23,
   "id": "4dbda282",
   "metadata": {},
   "outputs": [
    {
     "name": "stdout",
     "output_type": "stream",
     "text": [
      "              precision    recall  f1-score   support\n",
      "\n",
      "           0       0.79      0.88      0.83      1808\n",
      "           1       0.86      0.77      0.81      1777\n",
      "\n",
      "    accuracy                           0.82      3585\n",
      "   macro avg       0.83      0.82      0.82      3585\n",
      "weighted avg       0.83      0.82      0.82      3585\n",
      "\n",
      "Confusion Matrix: [[1591  217]\n",
      " [ 414 1363]]\n",
      "AUC: 0.9044324355954402\n"
     ]
    }
   ],
   "source": [
    "print(classification_report(y_test,pred))\n",
    "print('Confusion Matrix:',confusion_matrix(y_test, pred))\n",
    "fpr, tpr, thresholds = roc_curve(y_test, prob)\n",
    "roc_auc = auc(fpr, tpr)\n",
    "print('AUC:', roc_auc)"
   ]
  },
  {
   "cell_type": "code",
   "execution_count": 24,
   "id": "561cc5e0",
   "metadata": {},
   "outputs": [
    {
     "name": "stdout",
     "output_type": "stream",
     "text": [
      "[1 1 0 ... 0 0 0]\n"
     ]
    }
   ],
   "source": [
    "print(y_test)"
   ]
  },
  {
   "cell_type": "code",
   "execution_count": 25,
   "id": "7dd907b2",
   "metadata": {},
   "outputs": [
    {
     "name": "stdout",
     "output_type": "stream",
     "text": [
      "[0.34054703 0.99704435 0.03719836 ... 0.85877098 0.06192731 0.5530968 ]\n"
     ]
    }
   ],
   "source": [
    "print(prob)"
   ]
  },
  {
   "cell_type": "code",
   "execution_count": 26,
   "id": "7f6a4fc4",
   "metadata": {},
   "outputs": [
    {
     "data": {
      "image/png": "[encoded data removed]",
      "text/plain": [
       "<Figure size 432x288 with 1 Axes>"
      ]
     },
     "metadata": {
      "needs_background": "light"
     },
     "output_type": "display_data"
    }
   ],
   "source": [
    "def plot_roc_curve(fpr,tpr, label=None):\n",
    "    plt.plot(fpr, tpr, linewidth=2,label=label)\n",
    "    plt.plot([0,1],[0,1],'k--')\n",
    "plot_roc_curve(fpr,tpr)\n",
    "plt.savefig(\"ROC_Curve_SVM_Prop\")\n",
    "plt.show()\n"
   ]
  },
  {
   "cell_type": "code",
   "execution_count": 27,
   "id": "c292e89a",
   "metadata": {},
   "outputs": [],
   "source": [
    "precisions, recalls, thresholds=precision_recall_curve(y_test,pred)"
   ]
  },
  {
   "cell_type": "code",
   "execution_count": 28,
   "id": "4bcf951f",
   "metadata": {},
   "outputs": [],
   "source": [
    "def plot_precision_recall_vs_threshold(precisions,recalls,thresholds):\n",
    "    plt.plot(thresholds, precisions[:-1],\"b--\",label=\"Precision\")\n",
    "    plt.plot(thresholds, recalls[:-1],\"g--\",label=\"Recall\")"
   ]
  },
  {
   "cell_type": "code",
   "execution_count": 29,
   "id": "d2040419",
   "metadata": {},
   "outputs": [
    {
     "data": {
      "image/png": "[encoded data removed]",
      "text/plain": [
       "<Figure size 432x288 with 1 Axes>"
      ]
     },
     "metadata": {
      "needs_background": "light"
     },
     "output_type": "display_data"
    }
   ],
   "source": [
    "plot_precision_recall_vs_threshold(precisions,recalls,thresholds)\n",
    "plt.savefig(\"Precision_Recall_SVM.png\")\n",
    "plt.show()\n"
   ]
  },
  {
   "cell_type": "code",
   "execution_count": 30,
   "id": "e3399c04",
   "metadata": {},
   "outputs": [],
   "source": [
    "import pickle"
   ]
  },
  {
   "cell_type": "code",
   "execution_count": 31,
   "id": "8438bacd",
   "metadata": {},
   "outputs": [],
   "source": [
    "pkl_filename=\"Prop_SVM\""
   ]
  },
  {
   "cell_type": "code",
   "execution_count": 32,
   "id": "79dd655c",
   "metadata": {},
   "outputs": [],
   "source": [
    "with open(pkl_filename,\"wb\") as file:\n",
    "    pickle.dump(SVM,file)\n",
    "    "
   ]
  },
  {
   "cell_type": "code",
   "execution_count": null,
   "id": "6bac2f54",
   "metadata": {},
   "outputs": [],
   "source": []
  }
 ],
 "metadata": {
  "kernelspec": {
   "display_name": "Python 3",
   "language": "python",
   "name": "python3"
  },
  "language_info": {
   "codemirror_mode": {
    "name": "ipython",
    "version": 3
   },
   "file_extension": ".py",
   "mimetype": "text/x-python",
   "name": "python",
   "nbconvert_exporter": "python",
   "pygments_lexer": "ipython3",
   "version": "3.8.8"
  }
 },
 "nbformat": 4,
 "nbformat_minor": 5
}
