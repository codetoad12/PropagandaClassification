{
 "cells": [
  {
   "cell_type": "code",
   "execution_count": 5,
   "id": "5f783b2d",
   "metadata": {},
   "outputs": [],
   "source": [
    "import pandas as pd \n",
    "import matplotlib.pyplot as plt\n",
    "import Preprocessing \n",
    "from sklearn.model_selection import train_test_split as tts\n",
    "from sklearn.feature_extraction.text import TfidfVectorizer as tfidf\n",
    "from sklearn import tree\n",
    "from sklearn.model_selection import cross_val_score\n",
    "from sklearn.pipeline import Pipeline\n",
    "from sklearn.metrics import classification_report, f1_score, accuracy_score, confusion_matrix\n",
    "from sklearn.metrics import roc_curve, auc, roc_auc_score\n",
    "from sklearn.metrics import precision_recall_curve"
   ]
  },
  {
   "cell_type": "code",
   "execution_count": 6,
   "id": "b616ab97",
   "metadata": {},
   "outputs": [],
   "source": [
    "df=pd.read_csv(r\"D:\\Work\\Class\\Seminar\\Propaganda_Dataset_tweets.csv\")"
   ]
  },
  {
   "cell_type": "code",
   "execution_count": 7,
   "id": "acb3950a",
   "metadata": {},
   "outputs": [],
   "source": [
    "df.columns=[\"Source\",\"Indicator\",\"Tweet\"]"
   ]
  },
  {
   "cell_type": "code",
   "execution_count": 8,
   "id": "7e551157",
   "metadata": {},
   "outputs": [],
   "source": [
    "Tweet=df['Tweet'].values"
   ]
  },
  {
   "cell_type": "code",
   "execution_count": 9,
   "id": "7ab33336",
   "metadata": {},
   "outputs": [],
   "source": [
    "Ind=df['Indicator'].values"
   ]
  },
  {
   "cell_type": "code",
   "execution_count": 10,
   "id": "13125e28",
   "metadata": {},
   "outputs": [],
   "source": [
    "for i in range(len(Tweet)):\n",
    "    Tweet[i]=Preprocessing.remove_unwanted(Tweet[i])\n",
    "    Tweet[i]=Preprocessing.remove_stopwords( Tweet[i])    \n",
    "    #Tweet[i]=Preprocessing.common_words(Tweet[i])\n",
    "    Tweet[i]=Preprocessing.remove_punctuations(Tweet[i])\n",
    "    Tweet[i]=Preprocessing.lemma(Tweet[i])\n",
    "    Tweet[i]=Preprocessing.convert_to_single_string(Tweet[i])"
   ]
  },
  {
   "cell_type": "code",
   "execution_count": 11,
   "id": "34b6e297",
   "metadata": {},
   "outputs": [],
   "source": [
    "X_train,X_test,y_train,y_test=tts(Tweet,Ind,test_size=0.2)"
   ]
  },
  {
   "cell_type": "code",
   "execution_count": 12,
   "id": "7350f521",
   "metadata": {},
   "outputs": [],
   "source": [
    "tfidf = tfidf(use_idf=True,sublinear_tf=True)\n",
    "tfidf_train = tfidf.fit_transform(X_train)\n",
    "tfidf_test  = tfidf.transform(X_test)"
   ]
  },
  {
   "cell_type": "code",
   "execution_count": 13,
   "id": "e60e04c7",
   "metadata": {},
   "outputs": [],
   "source": [
    "TC=tree.DecisionTreeClassifier()"
   ]
  },
  {
   "cell_type": "code",
   "execution_count": 15,
   "id": "6521a505",
   "metadata": {},
   "outputs": [
    {
     "data": {
      "text/plain": [
       "DecisionTreeClassifier()"
      ]
     },
     "execution_count": 15,
     "metadata": {},
     "output_type": "execute_result"
    }
   ],
   "source": [
    "TC.fit(tfidf_train,y_train)"
   ]
  },
  {
   "cell_type": "code",
   "execution_count": 16,
   "id": "20fe9db1",
   "metadata": {},
   "outputs": [],
   "source": [
    "scores=cross_val_score(TC,tfidf_train,y_train,scoring=\"accuracy\",cv=5)"
   ]
  },
  {
   "cell_type": "code",
   "execution_count": 17,
   "id": "40f525a8",
   "metadata": {},
   "outputs": [
    {
     "name": "stdout",
     "output_type": "stream",
     "text": [
      "[0.75348675 0.76359833 0.7486053  0.75767085 0.75034868]\n"
     ]
    }
   ],
   "source": [
    "print(scores)"
   ]
  },
  {
   "cell_type": "code",
   "execution_count": 19,
   "id": "7d23ff0e",
   "metadata": {},
   "outputs": [],
   "source": [
    "pred=TC.predict(tfidf_test)"
   ]
  },
  {
   "cell_type": "code",
   "execution_count": 20,
   "id": "df493b70",
   "metadata": {},
   "outputs": [],
   "source": [
    "proba=TC.predict_proba(tfidf_test)[:,1]"
   ]
  },
  {
   "cell_type": "code",
   "execution_count": 21,
   "id": "6aa887a4",
   "metadata": {},
   "outputs": [
    {
     "name": "stdout",
     "output_type": "stream",
     "text": [
      "              precision    recall  f1-score   support\n",
      "\n",
      "           0       0.77      0.75      0.76      1787\n",
      "           1       0.76      0.78      0.77      1798\n",
      "\n",
      "    accuracy                           0.77      3585\n",
      "   macro avg       0.77      0.77      0.77      3585\n",
      "weighted avg       0.77      0.77      0.77      3585\n",
      "\n",
      "Confusion Matrix: [[1342  445]\n",
      " [ 392 1406]]\n",
      "AUC: 0.7664796363303626\n"
     ]
    }
   ],
   "source": [
    "print(classification_report(y_test,pred))\n",
    "print('Confusion Matrix:',confusion_matrix(y_test, pred))\n",
    "fpr, tpr, thresholds = roc_curve(y_test, proba)\n",
    "roc_auc = auc(fpr, tpr)\n",
    "print('AUC:', roc_auc)"
   ]
  },
  {
   "cell_type": "code",
   "execution_count": 24,
   "id": "436b94c4",
   "metadata": {},
   "outputs": [
    {
     "data": {
      "image/png": "[encoded data removed]",
      "text/plain": [
       "<Figure size 432x288 with 1 Axes>"
      ]
     },
     "metadata": {
      "needs_background": "light"
     },
     "output_type": "display_data"
    }
   ],
   "source": [
    "def plot_roc_curve(fpr,tpr, label=None):\n",
    "    plt.plot(fpr, tpr, linewidth=2,label=label)\n",
    "    plt.plot([0,1],[0,1],'k--')\n",
    "plot_roc_curve(fpr,tpr)\n",
    "plt.savefig(\"ROC_Curve_TC_Prop\")\n",
    "plt.show()"
   ]
  },
  {
   "cell_type": "code",
   "execution_count": null,
   "id": "94397cb8",
   "metadata": {},
   "outputs": [],
   "source": []
  }
 ],
 "metadata": {
  "kernelspec": {
   "display_name": "Python 3",
   "language": "python",
   "name": "python3"
  },
  "language_info": {
   "codemirror_mode": {
    "name": "ipython",
    "version": 3
   },
   "file_extension": ".py",
   "mimetype": "text/x-python",
   "name": "python",
   "nbconvert_exporter": "python",
   "pygments_lexer": "ipython3",
   "version": "3.8.8"
  }
 },
 "nbformat": 4,
 "nbformat_minor": 5
}
